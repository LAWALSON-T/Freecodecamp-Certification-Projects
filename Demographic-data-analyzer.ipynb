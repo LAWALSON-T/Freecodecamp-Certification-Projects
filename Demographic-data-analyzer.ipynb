{
 "cells": [
  {
   "cell_type": "code",
   "execution_count": 2,
   "id": "8428ec95",
   "metadata": {},
   "outputs": [],
   "source": [
    "import pandas as pd\n",
    "import numpy as np\n",
    "import seaborn as sns\n",
    "import matplotlib.pyplot as plt\n",
    "%matplotlib inline\n",
    "plt.style.use('fivethirtyeight')\n",
    "import warnings\n",
    "warnings.filterwarnings('ignore')"
   ]
  },
  {
   "cell_type": "code",
   "execution_count": 3,
   "id": "ea42d5cc",
   "metadata": {},
   "outputs": [],
   "source": [
    "adult=pd.read_csv('Adult.data.csv')"
   ]
  },
  {
   "cell_type": "code",
   "execution_count": 4,
   "id": "a80c24b5",
   "metadata": {},
   "outputs": [
    {
     "data": {
      "text/html": [
       "<div>\n",
       "<style scoped>\n",
       "    .dataframe tbody tr th:only-of-type {\n",
       "        vertical-align: middle;\n",
       "    }\n",
       "\n",
       "    .dataframe tbody tr th {\n",
       "        vertical-align: top;\n",
       "    }\n",
       "\n",
       "    .dataframe thead th {\n",
       "        text-align: right;\n",
       "    }\n",
       "</style>\n",
       "<table border=\"1\" class=\"dataframe\">\n",
       "  <thead>\n",
       "    <tr style=\"text-align: right;\">\n",
       "      <th></th>\n",
       "      <th>age</th>\n",
       "      <th>workclass</th>\n",
       "      <th>fnlwgt</th>\n",
       "      <th>education</th>\n",
       "      <th>education-num</th>\n",
       "      <th>marital-status</th>\n",
       "      <th>occupation</th>\n",
       "      <th>relationship</th>\n",
       "      <th>race</th>\n",
       "      <th>sex</th>\n",
       "      <th>capital-gain</th>\n",
       "      <th>capital-loss</th>\n",
       "      <th>hours-per-week</th>\n",
       "      <th>native-country</th>\n",
       "      <th>salary</th>\n",
       "    </tr>\n",
       "  </thead>\n",
       "  <tbody>\n",
       "    <tr>\n",
       "      <th>32556</th>\n",
       "      <td>27</td>\n",
       "      <td>Private</td>\n",
       "      <td>257302</td>\n",
       "      <td>Assoc-acdm</td>\n",
       "      <td>12</td>\n",
       "      <td>Married-civ-spouse</td>\n",
       "      <td>Tech-support</td>\n",
       "      <td>Wife</td>\n",
       "      <td>White</td>\n",
       "      <td>Female</td>\n",
       "      <td>0</td>\n",
       "      <td>0</td>\n",
       "      <td>38</td>\n",
       "      <td>United-States</td>\n",
       "      <td>&lt;=50K</td>\n",
       "    </tr>\n",
       "    <tr>\n",
       "      <th>32557</th>\n",
       "      <td>40</td>\n",
       "      <td>Private</td>\n",
       "      <td>154374</td>\n",
       "      <td>HS-grad</td>\n",
       "      <td>9</td>\n",
       "      <td>Married-civ-spouse</td>\n",
       "      <td>Machine-op-inspct</td>\n",
       "      <td>Husband</td>\n",
       "      <td>White</td>\n",
       "      <td>Male</td>\n",
       "      <td>0</td>\n",
       "      <td>0</td>\n",
       "      <td>40</td>\n",
       "      <td>United-States</td>\n",
       "      <td>&gt;50K</td>\n",
       "    </tr>\n",
       "    <tr>\n",
       "      <th>32558</th>\n",
       "      <td>58</td>\n",
       "      <td>Private</td>\n",
       "      <td>151910</td>\n",
       "      <td>HS-grad</td>\n",
       "      <td>9</td>\n",
       "      <td>Widowed</td>\n",
       "      <td>Adm-clerical</td>\n",
       "      <td>Unmarried</td>\n",
       "      <td>White</td>\n",
       "      <td>Female</td>\n",
       "      <td>0</td>\n",
       "      <td>0</td>\n",
       "      <td>40</td>\n",
       "      <td>United-States</td>\n",
       "      <td>&lt;=50K</td>\n",
       "    </tr>\n",
       "    <tr>\n",
       "      <th>32559</th>\n",
       "      <td>22</td>\n",
       "      <td>Private</td>\n",
       "      <td>201490</td>\n",
       "      <td>HS-grad</td>\n",
       "      <td>9</td>\n",
       "      <td>Never-married</td>\n",
       "      <td>Adm-clerical</td>\n",
       "      <td>Own-child</td>\n",
       "      <td>White</td>\n",
       "      <td>Male</td>\n",
       "      <td>0</td>\n",
       "      <td>0</td>\n",
       "      <td>20</td>\n",
       "      <td>United-States</td>\n",
       "      <td>&lt;=50K</td>\n",
       "    </tr>\n",
       "    <tr>\n",
       "      <th>32560</th>\n",
       "      <td>52</td>\n",
       "      <td>Self-emp-inc</td>\n",
       "      <td>287927</td>\n",
       "      <td>HS-grad</td>\n",
       "      <td>9</td>\n",
       "      <td>Married-civ-spouse</td>\n",
       "      <td>Exec-managerial</td>\n",
       "      <td>Wife</td>\n",
       "      <td>White</td>\n",
       "      <td>Female</td>\n",
       "      <td>15024</td>\n",
       "      <td>0</td>\n",
       "      <td>40</td>\n",
       "      <td>United-States</td>\n",
       "      <td>&gt;50K</td>\n",
       "    </tr>\n",
       "  </tbody>\n",
       "</table>\n",
       "</div>"
      ],
      "text/plain": [
       "       age     workclass  fnlwgt   education  education-num  \\\n",
       "32556   27       Private  257302  Assoc-acdm             12   \n",
       "32557   40       Private  154374     HS-grad              9   \n",
       "32558   58       Private  151910     HS-grad              9   \n",
       "32559   22       Private  201490     HS-grad              9   \n",
       "32560   52  Self-emp-inc  287927     HS-grad              9   \n",
       "\n",
       "           marital-status         occupation relationship   race     sex  \\\n",
       "32556  Married-civ-spouse       Tech-support         Wife  White  Female   \n",
       "32557  Married-civ-spouse  Machine-op-inspct      Husband  White    Male   \n",
       "32558             Widowed       Adm-clerical    Unmarried  White  Female   \n",
       "32559       Never-married       Adm-clerical    Own-child  White    Male   \n",
       "32560  Married-civ-spouse    Exec-managerial         Wife  White  Female   \n",
       "\n",
       "       capital-gain  capital-loss  hours-per-week native-country salary  \n",
       "32556             0             0              38  United-States  <=50K  \n",
       "32557             0             0              40  United-States   >50K  \n",
       "32558             0             0              40  United-States  <=50K  \n",
       "32559             0             0              20  United-States  <=50K  \n",
       "32560         15024             0              40  United-States   >50K  "
      ]
     },
     "execution_count": 4,
     "metadata": {},
     "output_type": "execute_result"
    }
   ],
   "source": [
    "adult.tail()"
   ]
  },
  {
   "cell_type": "code",
   "execution_count": 11,
   "id": "a5ae0e46",
   "metadata": {},
   "outputs": [
    {
     "data": {
      "text/plain": [
       "White                 27816\n",
       "Black                  3124\n",
       "Asian-Pac-Islander     1039\n",
       "Amer-Indian-Eskimo      311\n",
       "Other                   271\n",
       "Name: race, dtype: int64"
      ]
     },
     "execution_count": 11,
     "metadata": {},
     "output_type": "execute_result"
    }
   ],
   "source": [
    "adult['race'].value_counts()"
   ]
  },
  {
   "cell_type": "code",
   "execution_count": 22,
   "id": "d8757ca3",
   "metadata": {},
   "outputs": [
    {
     "data": {
      "text/plain": [
       "39.43354749885268"
      ]
     },
     "execution_count": 22,
     "metadata": {},
     "output_type": "execute_result"
    }
   ],
   "source": [
    "Male=adult.query('sex==\"Male\"')\n",
    "Male['age'].mean()\n",
    "#To find the average age of men , we first query the sex column\n",
    "male_data= adult.query('sex==\"Male\"')\n",
    "# then we extract the age column and derive the mean   \n",
    "average_age_male= male_data['age'].mean()\n",
    "print(average_age_male)\n"
   ]
  },
  {
   "cell_type": "code",
   "execution_count": 8,
   "id": "aba2df2b",
   "metadata": {},
   "outputs": [
    {
     "data": {
      "text/plain": [
       "5355"
      ]
     },
     "execution_count": 8,
     "metadata": {},
     "output_type": "execute_result"
    }
   ],
   "source": [
    "# this provides the number of people with bacelors degree\n",
    "len(adult[adult['education']==\"Bachelors\"])\n"
   ]
  },
  {
   "cell_type": "code",
   "execution_count": 7,
   "id": "3b8d9149",
   "metadata": {},
   "outputs": [
    {
     "data": {
      "text/plain": [
       "32561"
      ]
     },
     "execution_count": 7,
     "metadata": {},
     "output_type": "execute_result"
    }
   ],
   "source": [
    "# this gives the total number of people on the data\n",
    "len(adult)"
   ]
  },
  {
   "cell_type": "code",
   "execution_count": 10,
   "id": "28f46ab3",
   "metadata": {},
   "outputs": [
    {
     "name": "stdout",
     "output_type": "stream",
     "text": [
      "16.4\n"
     ]
    }
   ],
   "source": [
    "# we then determine the percentage of people with bachelors degree on the data\n",
    "percentage_bachelor= round(len(adult[adult['education']==\"Bachelors\"])/len(adult)*100,1)\n",
    "print(percentage_bachelor)"
   ]
  },
  {
   "cell_type": "code",
   "execution_count": 16,
   "id": "bd6fb6ec",
   "metadata": {},
   "outputs": [
    {
     "data": {
      "text/plain": [
       "array(['Bachelors', 'HS-grad', '11th', 'Masters', '9th', 'Some-college',\n",
       "       'Assoc-acdm', 'Assoc-voc', '7th-8th', 'Doctorate', 'Prof-school',\n",
       "       '5th-6th', '10th', '1st-4th', 'Preschool', '12th'], dtype=object)"
      ]
     },
     "execution_count": 16,
     "metadata": {},
     "output_type": "execute_result"
    }
   ],
   "source": [
    "#  inquire the list of qualifications from the data\n",
    "adult['education'].unique()"
   ]
  },
  {
   "cell_type": "code",
   "execution_count": 59,
   "id": "6e49f05b",
   "metadata": {},
   "outputs": [],
   "source": [
    "# we specify the qualifications and query\n",
    "lower_education= adult[~adult['education'].isin([\"Bachelors\",\"Masters\",\"Doctorate\"])]\n",
    "higher_education= adult[adult['education'].isin([\"Bachelors\",\"Masters\",\"Doctorate\"])]"
   ]
  },
  {
   "cell_type": "code",
   "execution_count": 60,
   "id": "7c7f4f6d",
   "metadata": {},
   "outputs": [
    {
     "name": "stdout",
     "output_type": "stream",
     "text": [
      "17.4\n"
     ]
    }
   ],
   "source": [
    "# first extract the people with low qualification but have high salary\n",
    "Rich_low_quali= lower_education[lower_education['salary']==\">50K\"]\n",
    "# find the percentage of this people with low qualification and high salary\n",
    "percentage_rich_low_quali= round(len(Rich_low_quali)/len(lower_education)*100,1)\n",
    "print(percentage_rich_low_quali)"
   ]
  },
  {
   "cell_type": "code",
   "execution_count": 61,
   "id": "cca5799d",
   "metadata": {},
   "outputs": [
    {
     "name": "stdout",
     "output_type": "stream",
     "text": [
      "46.5\n"
     ]
    }
   ],
   "source": [
    "# first extract the people with high qualification and have high salary\n",
    "Rich_high_quali= higher_education[higher_education['salary']==\">50K\"]\n",
    "# find the percentage of this people with high qualification and high salary\n",
    "percentage_rich_high_quali= round(len(Rich_high_quali)/len(higher_education)*100,1)\n",
    "print(percentage_rich_high_quali)\n"
   ]
  },
  {
   "cell_type": "code",
   "execution_count": 68,
   "id": "8240e9a5",
   "metadata": {},
   "outputs": [
    {
     "name": "stdout",
     "output_type": "stream",
     "text": [
      "10.0\n"
     ]
    }
   ],
   "source": [
    "# input the minimum hours into a variable\n",
    "minimum_hours=adult['hours-per-week'].min()\n",
    "# find the people who work minimum hours\n",
    "num_minimum_hours= adult[adult['hours-per-week']==minimum_hours]\n",
    "# then find percentage of high earners among the people that work minimum hours\n",
    "rich_percentage = round(len(num_min_hours[num_min_hours.salary==\">50k\"])/len(num_min_hours)*100,1)"
   ]
  },
  {
   "cell_type": "code",
   "execution_count": 81,
   "id": "f42822bf",
   "metadata": {},
   "outputs": [
    {
     "name": "stdout",
     "output_type": "stream",
     "text": [
      "Country with highest earners is United-States\n",
      "percentage of US rich amoung top earners is 91.5\n",
      "22.0\n"
     ]
    }
   ],
   "source": [
    "# first we extract the top earners\n",
    "rich_adult= adult[adult.salary==\">50K\"]\n",
    "# then we check the country with most top earners\n",
    "rich_adult_origin= rich_adult['native-country'].value_counts().idxmax()\n",
    "print('Country with highest earners is',rich_adult_origin)\n",
    "# we extract the number of top earners from this country\n",
    "rich_adult_origin_max=rich_adult['native-country'].value_counts().max()\n",
    "# then check for the percentage of rich adults from US against others\n",
    "percentage_rich=round(rich_adult_origin_max/len(rich_adult)*100,1)\n",
    "print('percentage of US rich amoung top earners is',percentage_rich )\n",
    "# also check person US rich in the entire data\n",
    "total_origin_count=adult['native-country'].value_counts().sum()\n",
    "percentage=round(rich_adult_origin_max/total_origin_count*100,1)\n",
    "print(percentage)\n",
    "\n"
   ]
  },
  {
   "cell_type": "code",
   "execution_count": 59,
   "id": "8969f502",
   "metadata": {},
   "outputs": [
    {
     "name": "stdout",
     "output_type": "stream",
     "text": [
      "Prof-specialty\n"
     ]
    }
   ],
   "source": [
    "# first extract from the data,people with origin india\n",
    "people_from_india= adult[adult['native-country']==\"India\"]\n",
    "# then extract the top earners\n",
    "rich_from_india=people_from_india[people_from_india.salary==\">50K\"]\n",
    "# then use the value count to find the number of occupatios and then idxmax to check for the most reoccuring profession\n",
    "profession=rich_from_india['occupation'].value_counts().idxmax()\n",
    "print(profession)"
   ]
  },
  {
   "cell_type": "code",
   "execution_count": 60,
   "id": "f7410979",
   "metadata": {},
   "outputs": [
    {
     "name": "stdout",
     "output_type": "stream",
     "text": [
      "Prof-specialty\n"
     ]
    }
   ],
   "source": [
    "# here we queried for both people from india and those with high salary\n",
    "people_of_india = adult[(adult['native-country']==\"India\")&(adult['salary']==\">50K\")]\n",
    "# then checked for the number of occupations\n",
    "occupation_counts = people_of_india['occupation'].value_counts()\n",
    "# then checked for the highest earning profession\n",
    "top_in_occupation= occupation_counts.idxmax()\n",
    "print(top_in_occupation)"
   ]
  },
  {
   "cell_type": "code",
   "execution_count": 90,
   "id": "080238c7",
   "metadata": {},
   "outputs": [],
   "source": [
    "low_earners= adult[adult['salary']==\"<=50K\"]"
   ]
  },
  {
   "cell_type": "code",
   "execution_count": 91,
   "id": "2582bb1f",
   "metadata": {},
   "outputs": [
    {
     "data": {
      "text/plain": [
       "White                 20699\n",
       "Black                  2737\n",
       "Asian-Pac-Islander      763\n",
       "Amer-Indian-Eskimo      275\n",
       "Other                   246\n",
       "Name: race, dtype: int64"
      ]
     },
     "execution_count": 91,
     "metadata": {},
     "output_type": "execute_result"
    }
   ],
   "source": [
    "low_earners['race'].value_counts()"
   ]
  },
  {
   "cell_type": "code",
   "execution_count": 92,
   "id": "6aafc46f",
   "metadata": {},
   "outputs": [],
   "source": [
    "rich_adult= adult[adult.salary==\">50K\"]"
   ]
  },
  {
   "cell_type": "code",
   "execution_count": 93,
   "id": "173ba5d9",
   "metadata": {},
   "outputs": [
    {
     "data": {
      "text/plain": [
       "White                 7117\n",
       "Black                  387\n",
       "Asian-Pac-Islander     276\n",
       "Amer-Indian-Eskimo      36\n",
       "Other                   25\n",
       "Name: race, dtype: int64"
      ]
     },
     "execution_count": 93,
     "metadata": {},
     "output_type": "execute_result"
    }
   ],
   "source": [
    "rich_adult['race'].value_counts()"
   ]
  },
  {
   "cell_type": "code",
   "execution_count": 97,
   "id": "5cb25bed",
   "metadata": {},
   "outputs": [],
   "source": [
    "blacks= adult.query('race== \"Black\"')"
   ]
  },
  {
   "cell_type": "code",
   "execution_count": 99,
   "id": "0a077562",
   "metadata": {},
   "outputs": [
    {
     "data": {
      "text/plain": [
       "HS-grad         1174\n",
       "Some-college     746\n",
       "Bachelors        330\n",
       "11th             153\n",
       "10th             133\n",
       "Assoc-voc        112\n",
       "Assoc-acdm       107\n",
       "9th               89\n",
       "Masters           86\n",
       "12th              70\n",
       "7th-8th           56\n",
       "5th-6th           21\n",
       "1st-4th           16\n",
       "Prof-school       15\n",
       "Doctorate         11\n",
       "Preschool          5\n",
       "Name: education, dtype: int64"
      ]
     },
     "execution_count": 99,
     "metadata": {},
     "output_type": "execute_result"
    }
   ],
   "source": [
    "blacks['education'].value_counts()"
   ]
  },
  {
   "cell_type": "code",
   "execution_count": 102,
   "id": "8865ccf7",
   "metadata": {},
   "outputs": [
    {
     "data": {
      "text/html": [
       "<div>\n",
       "<style scoped>\n",
       "    .dataframe tbody tr th:only-of-type {\n",
       "        vertical-align: middle;\n",
       "    }\n",
       "\n",
       "    .dataframe tbody tr th {\n",
       "        vertical-align: top;\n",
       "    }\n",
       "\n",
       "    .dataframe thead th {\n",
       "        text-align: right;\n",
       "    }\n",
       "</style>\n",
       "<table border=\"1\" class=\"dataframe\">\n",
       "  <thead>\n",
       "    <tr style=\"text-align: right;\">\n",
       "      <th></th>\n",
       "      <th>hours-per-week</th>\n",
       "    </tr>\n",
       "    <tr>\n",
       "      <th>sex</th>\n",
       "      <th></th>\n",
       "    </tr>\n",
       "  </thead>\n",
       "  <tbody>\n",
       "    <tr>\n",
       "      <th>Female</th>\n",
       "      <td>36.410361</td>\n",
       "    </tr>\n",
       "    <tr>\n",
       "      <th>Male</th>\n",
       "      <td>42.428086</td>\n",
       "    </tr>\n",
       "  </tbody>\n",
       "</table>\n",
       "</div>"
      ],
      "text/plain": [
       "        hours-per-week\n",
       "sex                   \n",
       "Female       36.410361\n",
       "Male         42.428086"
      ]
     },
     "execution_count": 102,
     "metadata": {},
     "output_type": "execute_result"
    }
   ],
   "source": [
    "pd.pivot_table(adult,index='sex', values=\"hours-per-week\")"
   ]
  },
  {
   "cell_type": "code",
   "execution_count": 105,
   "id": "3976e0e3",
   "metadata": {},
   "outputs": [
    {
     "data": {
      "text/plain": [
       "<AxesSubplot:xlabel='sex', ylabel='age'>"
      ]
     },
     "execution_count": 105,
     "metadata": {},
     "output_type": "execute_result"
    },
    {
     "data": {
      "image/png": "[encoded data removed]",
      "text/plain": [
       "<Figure size 432x288 with 1 Axes>"
      ]
     },
     "metadata": {},
     "output_type": "display_data"
    }
   ],
   "source": [
    "sns.barplot(x='sex',y= 'age', hue='salary', data=adult)"
   ]
  },
  {
   "cell_type": "code",
   "execution_count": 85,
   "id": "40647cdc",
   "metadata": {},
   "outputs": [
    {
     "name": "stdout",
     "output_type": "stream",
     "text": [
      "[[1. 2. 3.]\n",
      " [3. 4. 5.]]\n"
     ]
    }
   ],
   "source": [
    "b = np.array([[1.0,2.0,3.0],[3.0,4.0,5.0]])\n",
    "print(b)"
   ]
  },
  {
   "cell_type": "code",
   "execution_count": null,
   "id": "e27f6b40",
   "metadata": {},
   "outputs": [],
   "source": []
  }
 ],
 "metadata": {
  "kernelspec": {
   "display_name": "Python 3 (ipykernel)",
   "language": "python",
   "name": "python3"
  },
  "language_info": {
   "codemirror_mode": {
    "name": "ipython",
    "version": 3
   },
   "file_extension": ".py",
   "mimetype": "text/x-python",
   "name": "python",
   "nbconvert_exporter": "python",
   "pygments_lexer": "ipython3",
   "version": "3.9.7"
  }
 },
 "nbformat": 4,
 "nbformat_minor": 5
}
